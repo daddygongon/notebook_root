{
 "cells": [
  {
   "cell_type": "markdown",
   "metadata": {
    "toc": "true"
   },
   "source": [
    "# Table of Contents\n",
    " <p><div class=\"lev1 toc-item\"><a href=\"#md_ipynb.rb\" data-toc-modified-id=\"md_ipynb.rb-1\"><span class=\"toc-item-num\">1&nbsp;&nbsp;</span>md_ipynb.rb</a></div><div class=\"lev1 toc-item\"><a href=\"#convertの手順\" data-toc-modified-id=\"convertの手順-2\"><span class=\"toc-item-num\">2&nbsp;&nbsp;</span>convertの手順</a></div><div class=\"lev1 toc-item\"><a href=\"#figs_cpの手順\" data-toc-modified-id=\"figs_cpの手順-3\"><span class=\"toc-item-num\">3&nbsp;&nbsp;</span>figs_cpの手順</a></div><div class=\"lev1 toc-item\"><a href=\"#attach_viewをmdフォーマットに変換\" data-toc-modified-id=\"attach_viewをmdフォーマットに変換-4\"><span class=\"toc-item-num\">4&nbsp;&nbsp;</span>attach_viewをmdフォーマットに変換</a></div><div class=\"lev2 toc-item\"><a href=\"#error\" data-toc-modified-id=\"error-41\"><span class=\"toc-item-num\">4.1&nbsp;&nbsp;</span>error</a></div>"
   ]
  },
  {
   "cell_type": "markdown",
   "metadata": {
    "heading_collapsed": true
   },
   "source": [
    "# md_ipynb.rb\n",
    "\n",
    "\n",
    "1. sourceから一行ずつ読み出して，'#'で切り出して，contへlinesの塊として保存していく．\n",
    "   1. こうするとipynbで単元ごとの展開-縮小表示を切り替え可能．\n",
    "1. md_cell0を作って，sourceのcontにあるlinesを入れる．\n",
    "1. それをさらにipynb[\"cells\"]に追加していく.\n",
    "1. targetにjson形式でdump."
   ]
  },
  {
   "cell_type": "markdown",
   "metadata": {
    "hidden": true
   },
   "source": [
    "``` ruby\n",
    "# md_ipynb.rb\n",
    "# convert md to ipynb with splitted at '#'\n",
    "\n",
    "require 'json'\n",
    "\n",
    "source = File.read(ARGV[0])\n",
    "\n",
    "cont = []\n",
    "cont0 = \"\"\n",
    "source.each_line do |line|\n",
    "  if m=line.match(/^#/)\n",
    "    cont << cont0\n",
    "    cont << line\n",
    "    cont0 = \"\"\n",
    "  else\n",
    "    cont0 += line\n",
    "  end\n",
    "end\n",
    "cont << cont0\n",
    "\n",
    "ipynb = JSON.load(File.read('template.ipynb'))\n",
    "\n",
    "cont.each do |lines|\n",
    "  md_cell0 = {\"cell_type\"=>\"markdown\", \"metadata\"=>{}, \"source\"=>[]}\n",
    "  md_cell0[\"source\"] << lines\n",
    "  ipynb[\"cells\"] << md_cell0\n",
    "end\n",
    "\n",
    "File.open('tmp.ipynb','w') do |target|\n",
    "  JSON.dump(ipynb,target)\n",
    "end\n",
    "```\n"
   ]
  },
  {
   "cell_type": "markdown",
   "metadata": {},
   "source": [
    "# convertの手順\n",
    "hikiのtextをnotebooksに動かす手順．\n",
    "* namesに含まれているnew_ist_dataにあるmapleテキストをhiki2mdで変換\n",
    "* md_ipynb.rbでipynbに変換\n"
   ]
  },
  {
   "cell_type": "code",
   "execution_count": 3,
   "metadata": {},
   "outputs": [
    {
     "name": "stdout",
     "output_type": "stream",
     "text": [
      "\"/Users/bob/Sites/new_ist_data/maple_hiki_data/text/Etcetra\"\n",
      "\"./translated/etcetra.md\"\n",
      "\"translated/etcetra.ipynb\"\n",
      "\"/Users/bob/Sites/new_ist_data/maple_hiki_data/text/EqManip\"\n",
      "\"./translated/eqmanip.md\"\n",
      "\"translated/eqmanip.ipynb\"\n",
      "\"/Users/bob/Sites/new_ist_data/maple_hiki_data/text/CG\"\n",
      "\"./translated/cg.md\"\n",
      "\"translated/cg.ipynb\"\n",
      "\"/Users/bob/Sites/new_ist_data/maple_hiki_data/text/Integral\"\n",
      "\"./translated/integral.md\"\n",
      "\"translated/integral.ipynb\"\n"
     ]
    },
    {
     "data": {
      "text/plain": [
       "[\"Etcetra\", \"EqManip\", \"CG\", \"Integral\"]"
      ]
     },
     "execution_count": 3,
     "metadata": {},
     "output_type": "execute_result"
    }
   ],
   "source": [
    "require 'fileutils'\n",
    "\n",
    "FileUtils.mkdir('translated')\n",
    "names = [\"Etcetra\",\"EqManip\",\"CG\",\"Integral\"]\n",
    "names.each do |name|\n",
    "# \n",
    "  p hiki = File.join(ENV[\"HOME\"],'Sites','new_ist_data/maple_hiki_data/text',\n",
    "    name)\n",
    "  p md = \"./translated/#{name.downcase}.md\"\n",
    "  system \"hiki2md #{hiki} > #{md}\" # mdをいじっていくので，これをskip\n",
    "\n",
    "  system \"ruby md_ipynb.rb #{md}\"\n",
    "  p ipynb = File.join('translated',name.downcase+'.ipynb')\n",
    "  system \"mv tmp.ipynb #{ipynb}\"\n",
    "end"
   ]
  },
  {
   "cell_type": "markdown",
   "metadata": {},
   "source": [
    "# figs_cpの手順\n",
    "hikiのcache/attachにあるpngをnotebooks/figsに動かす.\n",
    "\n"
   ]
  },
  {
   "cell_type": "code",
   "execution_count": 12,
   "metadata": {},
   "outputs": [
    {
     "data": {
      "text/plain": [
       "[\"FSolve\", \"Error\", \"LAFundamentals\", \"LAEigenvectors\", \"LAMatrixInverse\", \"InterpolationIntegral\", \"LeastSquareFit\", \"NonLinearFit\", \"FFT\"]"
      ]
     },
     "execution_count": 12,
     "metadata": {},
     "output_type": "execute_result"
    }
   ],
   "source": [
    "require 'systemu'\n",
    "require 'fileutils'\n",
    "names = [\"FSolve\",\"Error\",\n",
    "\"LAFundamentals\",\"LAEigenvectors\",\"LAMatrixInverse\",\n",
    "\"InterpolationIntegral\",\"LeastSquareFit\",\n",
    "\"NonLinearFit\",\"FFT\"]\n",
    "\n",
    "names.each do |name|\n",
    "  # \n",
    "  attach = File.join(ENV[\"HOME\"],'Sites','new_ist_data/maple_hiki_data/cache/attach',\n",
    "    name)\n",
    "\n",
    "  status, stdout, stderr = systemu \"ls #{attach}\"\n",
    "  files = stdout.split(\"\\n\")\n",
    "  next if files == []\n",
    "  files.each do |file|\n",
    "    source = File.join(attach, file)\n",
    "    target = File.join('../notebooks/figs', file)\n",
    "    FileUtils.cp(source, target, :verbose => true)\n",
    "  end\n",
    "end"
   ]
  },
  {
   "cell_type": "markdown",
   "metadata": {},
   "source": [
    "# attach_viewをmdフォーマットに変換\n"
   ]
  },
  {
   "cell_type": "code",
   "execution_count": 4,
   "metadata": {},
   "outputs": [
    {
     "name": "stdout",
     "output_type": "stream",
     "text": [
      "\"tmp0.ipynb\"\n",
      "\"    \\\"![C8_LeastSquareFitplot2d1.png](figs/C8_LeastSquareFitplot2d1.png)\\\\n\\\",\\n\"\n",
      "\"    \\\"|:----|\\\\n\\\",\\n\"\n",
      "nil\n",
      "\"    \\\"![C8_LeastSquareFitplot2d2.png](figs/C8_LeastSquareFitplot2d2.png)\\\\n\\\",\\n\"\n",
      "\"    \\\"|:----|\\\\n\\\",\\n\"\n",
      "nil\n",
      "\"    \\\"![C8_LeastSquareFitplot3d3.png](figs/C8_LeastSquareFitplot3d3.png)\\\\n\\\",\\n\"\n",
      "\"    \\\"|:----|\\\\n\\\",\\n\"\n",
      "nil\n",
      "\"    \\\"![C8_LeastSquareFitplot3d4.png](figs/C8_LeastSquareFitplot3d4.png)\\\\n\\\",\\n\"\n",
      "\"    \\\"|:----|\\\\n\\\",\\n\"\n",
      "nil\n"
     ]
    },
    {
     "data": {
      "text/plain": [
       "[\"tmp0.ipynb\"]"
      ]
     },
     "execution_count": 4,
     "metadata": {},
     "output_type": "execute_result"
    }
   ],
   "source": [
    "[\"tmp0.ipynb\"].each do |file|\n",
    "  next unless file.match(/ipynb$/)\n",
    "  p file\n",
    "  lines = File.readlines(file)\n",
    "  target = File.open('tmp.ipynb','w')\n",
    "  lines.each do |line|\n",
    "    if m = line.match(/attach_view\\((.+?),/)\n",
    "      p line = '    \"!['+m[1]+'](figs/'+m[1]+')\\n\",'+\"\\n\"\n",
    "    end\n",
    "    if m = line.match(/\\\"\\|\\:----\\|\\\\n/)\n",
    "      p line\n",
    "      p line = nil\n",
    "    end\n",
    "\n",
    "    target.print(line) \n",
    "  end\n",
    "  target.close \n",
    "end"
   ]
  },
  {
   "cell_type": "markdown",
   "metadata": {},
   "source": [
    "## error\n",
    "json.loadのerrorが出る．\n",
    "\n",
    "cellの最後で変換してしまうと，[\"...\",]で終わり，そうすると読めない．codingに組み込むのはめんどいので，手で修正．"
   ]
  },
  {
   "cell_type": "code",
   "execution_count": null,
   "metadata": {
    "collapsed": true
   },
   "outputs": [],
   "source": []
  }
 ],
 "metadata": {
  "kernelspec": {
   "display_name": "Ruby 2.2.2",
   "language": "ruby",
   "name": "ruby"
  },
  "language_info": {
   "file_extension": ".rb",
   "mimetype": "application/x-ruby",
   "name": "ruby",
   "version": "2.2.2"
  },
  "latex_envs": {
   "LaTeX_envs_menu_present": true,
   "autocomplete": true,
   "bibliofile": "biblio.bib",
   "cite_by": "apalike",
   "current_citInitial": 1,
   "eqLabelWithNumbers": true,
   "eqNumInitial": 1,
   "hotkeys": {
    "equation": "Ctrl-E",
    "itemize": "Ctrl-I"
   },
   "labels_anchors": false,
   "latex_user_defs": false,
   "report_style_numbering": false,
   "user_envs_cfg": false
  },
  "toc": {
   "colors": {
    "hover_highlight": "#DAA520",
    "navigate_num": "#000000",
    "navigate_text": "#333333",
    "running_highlight": "#FF0000",
    "selected_highlight": "#FFD700",
    "sidebar_border": "#EEEEEE",
    "wrapper_background": "#FFFFFF"
   },
   "moveMenuLeft": true,
   "nav_menu": {
    "height": "12px",
    "width": "252px"
   },
   "navigate_menu": true,
   "number_sections": true,
   "sideBar": true,
   "threshold": 4,
   "toc_cell": true,
   "toc_section_display": "block",
   "toc_window_display": true,
   "widenNotebook": false
  }
 },
 "nbformat": 4,
 "nbformat_minor": 2
}

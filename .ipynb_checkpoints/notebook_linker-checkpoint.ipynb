{
 "cells": [
  {
   "cell_type": "markdown",
   "metadata": {
    "toc": "true"
   },
   "source": [
    "# Table of Contents\n",
    " <p><div class=\"lev1 toc-item\"><a href=\"#README\" data-toc-modified-id=\"README-1\"><span class=\"toc-item-num\">1&nbsp;&nbsp;</span>README</a></div><div class=\"lev1 toc-item\"><a href=\"#開発項目\" data-toc-modified-id=\"開発項目-2\"><span class=\"toc-item-num\">2&nbsp;&nbsp;</span>開発項目</a></div><div class=\"lev2 toc-item\"><a href=\"#linkerの\" data-toc-modified-id=\"linkerの-21\"><span class=\"toc-item-num\">2.1&nbsp;&nbsp;</span>linkerの</a></div><div class=\"lev2 toc-item\"><a href=\"#rtree\" data-toc-modified-id=\"rtree-22\"><span class=\"toc-item-num\">2.2&nbsp;&nbsp;</span>rtree</a></div><div class=\"lev1 toc-item\"><a href=\"#search\" data-toc-modified-id=\"search-3\"><span class=\"toc-item-num\">3&nbsp;&nbsp;</span>search</a></div><div class=\"lev1 toc-item\"><a href=\"#stray_catch\" data-toc-modified-id=\"stray_catch-4\"><span class=\"toc-item-num\">4&nbsp;&nbsp;</span>stray_catch</a></div><div class=\"lev1 toc-item\"><a href=\"#make_link\" data-toc-modified-id=\"make_link-5\"><span class=\"toc-item-num\">5&nbsp;&nbsp;</span>make_link</a></div><div class=\"lev1 toc-item\"><a href=\"#select_rm\" data-toc-modified-id=\"select_rm-6\"><span class=\"toc-item-num\">6&nbsp;&nbsp;</span>select_rm</a></div><div class=\"lev1 toc-item\"><a href=\"#whole_search\" data-toc-modified-id=\"whole_search-7\"><span class=\"toc-item-num\">7&nbsp;&nbsp;</span>whole_search</a></div>"
   ]
  },
  {
   "cell_type": "markdown",
   "metadata": {},
   "source": [
    "# README\n",
    "``` bash\n",
    "notebook_linker [dir] dirにあるipynbのsymbolic linkを作る\n",
    "ipyrb_collector [dir] dirにあるipynbをsearchしてsymbolic linkを作る\n",
    "```\n",
    "\n",
    "jupyter notebookは便利です．\n",
    "西谷はすべての文書のもとをipynb形式にする予定です\n",
    "\n",
    "文書の置き場所はtight bindingを守るべきです．\n",
    "文書のtight bindingというのは，文書をdataやcodeと同じdirectory内に置くことです．\n",
    "そうすると文書が迷子になることが少なく，移動させるときに便利です．\n",
    "jupyter notebookのMarkDown記述部とpython codeの実行部が一緒に\n",
    "記述できる仕様となっているのも，そのせいです．\n",
    "\n",
    "ところが，そうして書き散らかしていると，どこのdirectoryに書いたか忘れてしまいます．\n",
    "ある似たようなtopicsがあるのだけれど，どこで書いたっけ．使い回しをしたいのだけれど．．．\n",
    "となって文書の増加とともに，探すのに時間が取られてしまいます．\n",
    "\n",
    "迷子にならないように適切なdirectory構造を作るのだけれど，\n",
    "文書のdirectory構造はcodeやdataの構造と違っていて，\n",
    "文書の増加とともに整合性を維持するのが困難になってきます．\n",
    "文書だけのdirectory構造があると便利です．\n",
    "\n",
    "そこで，ipynb形式だけを集めて，symbolic linkをつくるcliアプリを作成します．\n",
    "これによって，symoblic linkを操作することで，実体のnotebookをいじったり，\n",
    "文書に適したdirectory構造を作ることが可能となります．\n",
    "\n",
    "このような構造は，riやmanなどのプログラミング環境文書でも提供されています．\n",
    "riはもとの文書はそれぞれのgemのdocsに置いてあります．\n",
    "riはもとの文書を編集して一箇所に集めて，readerが読みやすいように提供しています．\n",
    "\n",
    "これら先人の知恵を参考にしながら，知識の置き場所を迷わない，\n",
    "探すのが便利な構造を見た目にできるcuiの提供を目指しています．"
   ]
  },
  {
   "cell_type": "markdown",
   "metadata": {},
   "source": [
    "# 開発項目"
   ]
  },
  {
   "cell_type": "markdown",
   "metadata": {},
   "source": [
    "## linkerの\n",
    "* search\n",
    "* symbolic_link\n",
    "  * 重複を避ける\n",
    "  * 重複ファイルがあるときは，その前のdir名を後ろにくっつける．\n",
    "* select_mv\n",
    "  * 語句が含まれているfileを移動\n",
    "* stray_catch\n",
    "  * 特定dirの迷子をリストする\n",
    "  * notebooksをくって，link元がないのを表示するのは難しい\n",
    "  * notebooksをくって，link元から消していって，残ったのを表示．\n",
    "  * さらにこれを使ってmake_linkしたら一石二鳥．\n",
    "* whole_search\n",
    "  * 全directoryからlink漏れ，外れを探す．．． \n",
    "  * exceptに意図的に外すdirectory(古いの，他人のんとか)を入れておく．"
   ]
  },
  {
   "cell_type": "markdown",
   "metadata": {
    "heading_collapsed": true
   },
   "source": [
    "## rtree\n",
    "\n",
    "単なるtreeだとlink先まで表示して見にくい．そいつを切って，さらにcolorizeして表示．ARGV[0]でdir指定．treeのoptionsも正しく扱えているはずやが．．．"
   ]
  },
  {
   "cell_type": "markdown",
   "metadata": {
    "hidden": true
   },
   "source": [
    "``` ruby\n",
    "#!/usr/bin/env ruby\n",
    "require 'systemu'\n",
    "require 'colorize'\n",
    "\n",
    "opt = []\n",
    "unless ARGV[0]==nil\n",
    "  while ARGV[0].match(/^\\-/)\n",
    "    opt << ARGV.shift\n",
    "    opt << ARGV.shift\n",
    "  end\n",
    "  opts = opt.join(' ')\n",
    "  dir = ARGV[0..-1].join(' ') || '.'\n",
    "else\n",
    "  opts = nil\n",
    "  dir = nil\n",
    "end\n",
    "command = \"tree #{opts} #{dir}\"\n",
    "_s, out, _e = systemu command\n",
    "out.each_line do |line|\n",
    "  if line.include?('.ipynb')\n",
    "    puts line.split('->')[0].chomp.blue\n",
    "  else\n",
    "    puts line.chomp.green\n",
    "  end\n",
    "end\n",
    "```"
   ]
  },
  {
   "cell_type": "markdown",
   "metadata": {},
   "source": [
    "# search\n",
    "\n",
    "search_dirsにipynbをlinkしたいファイルを探しに行く．ipynbsに入れられる．"
   ]
  },
  {
   "cell_type": "code",
   "execution_count": 5,
   "metadata": {},
   "outputs": [
    {
     "name": "stdout",
     "output_type": "stream",
     "text": [
      "28\n"
     ]
    },
    {
     "data": {
      "text/plain": [
       "28"
      ]
     },
     "execution_count": 5,
     "metadata": {},
     "output_type": "execute_result"
    }
   ],
   "source": [
    "search_dirs = ['Github'] #,'Github','Desktop']\n",
    "except_dirs = Regexp.new(\"eagle12|yuri|naoki|tmp.ipynb|kikutatsu|souki|yagi|hikita|tsunoo|taishi|kamada|yamasaki\")\n",
    "\n",
    "ipynbs = []\n",
    "search_dirs.each{ |dir|\n",
    "  files = Dir.glob(File.join(ENV['HOME'],\"#{dir}/**/*.ipynb\"))\n",
    "  files.each{ |file|\n",
    "    next if file.match(except_dirs)\n",
    "    ipynbs << file\n",
    "  }\n",
    "}\n",
    "\n",
    "p ipynbs.size"
   ]
  },
  {
   "cell_type": "markdown",
   "metadata": {},
   "source": [
    "# stray_catch\n",
    "\n",
    "迷子ファイルを見つける．むづかしそう．まずは一致を見ればいいか．\n",
    "これで減らしといて，make_linkすると効率的．"
   ]
  },
  {
   "cell_type": "code",
   "execution_count": 6,
   "metadata": {},
   "outputs": [
    {
     "name": "stdout",
     "output_type": "stream",
     "text": [
      "#<Errno::EINVAL: Invalid argument @ rb_readlink - ./install_notebook.ipynb>\n",
      "#<Errno::EINVAL: Invalid argument @ rb_readlink - ./ipynb_utils/join_ipynb.ipynb>\n",
      "#<Errno::EINVAL: Invalid argument @ rb_readlink - ./ipynb_utils/md_to_ipynb.ipynb>\n",
      "#<Errno::EINVAL: Invalid argument @ rb_readlink - ./ipynb_utils/template.ipynb>\n",
      "#<Errno::EINVAL: Invalid argument @ rb_readlink - ./ipynb_utils/tmp0.ipynb>\n",
      "#<Errno::EINVAL: Invalid argument @ rb_readlink - ./ipynb_utils/Untitled.ipynb>\n",
      "#<Errno::EINVAL: Invalid argument @ rb_readlink - ./notebook_linker.ipynb>\n",
      "#<Errno::EINVAL: Invalid argument @ rb_readlink - ./notebook_rule.ipynb>\n",
      "\"/Users/bob/Github/boundary/bob/data/README.ipynb\"\n",
      "\"/Users/bob/Github/boundary/bob/data/size_dependency/README.ipynb\"\n",
      "\"/Users/bob/Github/boundary/bob/docs/boundary_calc_procedures.ipynb\"\n",
      "\"/Users/bob/Github/boundary/bob/docs/find_min.ipynb\"\n",
      "\"/Users/bob/Github/boundary/bob/docs/kaken_hi18/kiban_c_utf_single/Untitled.ipynb\"\n",
      "\"/Users/bob/Github/boundary/bob/docs/kaken_hi18/Untitled.ipynb\"\n",
      "\"/Users/bob/Github/boundary/bob/docs/modeler.ipynb\"\n",
      "\"/Users/bob/Github/boundary/bob/docs/README.ipynb\"\n",
      "\"/Users/bob/Github/boundary/bob/docs/ReadShockley.ipynb\"\n",
      "\"/Users/bob/Github/boundary/bob/docs/research_all.ipynb\"\n",
      "\"/Users/bob/Github/boundary/bob/docs/size_dependency.ipynb\"\n",
      "\"/Users/bob/Github/boundary/bob/README.ipynb\"\n",
      "\"/Users/bob/Github/boundary/README.ipynb\"\n",
      "\"/Users/bob/Github/TeamNishitani/grad_research_2017/bob/notebook/Untitled1.ipynb\"\n",
      "\"/Users/bob/Github/TeamNishitani/grad_research_2017/init_setups.ipynb\"\n",
      "\"/Users/bob/Github/TeamNishitani/grad_research_2017/install_notebook.ipynb\"\n"
     ]
    },
    {
     "data": {
      "text/plain": [
       "[\"/Users/bob/Github/boundary/bob/data/README.ipynb\", \"/Users/bob/Github/boundary/bob/data/size_dependency/README.ipynb\", \"/Users/bob/Github/boundary/bob/docs/boundary_calc_procedures.ipynb\", \"/Users/bob/Github/boundary/bob/docs/find_min.ipynb\", \"/Users/bob/Github/boundary/bob/docs/kaken_hi18/kiban_c_utf_single/Untitled.ipynb\", \"/Users/bob/Github/boundary/bob/docs/kaken_hi18/Untitled.ipynb\", \"/Users/bob/Github/boundary/bob/docs/modeler.ipynb\", \"/Users/bob/Github/boundary/bob/docs/README.ipynb\", \"/Users/bob/Github/boundary/bob/docs/ReadShockley.ipynb\", \"/Users/bob/Github/boundary/bob/docs/research_all.ipynb\", \"/Users/bob/Github/boundary/bob/docs/size_dependency.ipynb\", \"/Users/bob/Github/boundary/bob/README.ipynb\", \"/Users/bob/Github/boundary/README.ipynb\", \"/Users/bob/Github/TeamNishitani/grad_research_2017/bob/notebook/Untitled1.ipynb\", \"/Users/bob/Github/TeamNishitani/grad_research_2017/init_setups.ipynb\", \"/Users/bob/Github/TeamNishitani/grad_research_2017/install_notebook.ipynb\"]"
      ]
     },
     "execution_count": 6,
     "metadata": {},
     "output_type": "execute_result"
    }
   ],
   "source": [
    "select_files = []\n",
    "Dir.glob('./**/*.ipynb'){ |file|\n",
    "  begin \n",
    "    link_name = File.readlink(file)\n",
    "  rescue => e\n",
    "    p e\n",
    "  end\n",
    "  next unless ipynbs.include?(link_name)\n",
    "  ipynbs.delete(link_name)\n",
    "}\n",
    "\n",
    "ipynbs.each{|file| p file }"
   ]
  },
  {
   "cell_type": "markdown",
   "metadata": {},
   "source": [
    "# make_link"
   ]
  },
  {
   "cell_type": "code",
   "execution_count": 3,
   "metadata": {},
   "outputs": [
    {
     "name": "stdout",
     "output_type": "stream",
     "text": [
      "\"File exists @ sys_fail2 - Untitled.ipynb\"\n",
      "\"Untitled_kamada.ipynb\"\n",
      "\"File exists @ sys_fail2 - Untitled.ipynb\"\n",
      "\"Untitled_taishi.ipynb\"\n",
      "\"File exists @ sys_fail2 - Untitled.ipynb\"\n",
      "\"Untitled_tsunoo.ipynb\"\n",
      "\"File exists @ sys_fail2 - Untitled1.ipynb\"\n",
      "\"Untitled1_yamasaki.ipynb\"\n"
     ]
    },
    {
     "data": {
      "text/plain": [
       "[\"/Users/bob/Github/TeamNishitani/ruby_novice/hikita/Untitled.ipynb\", \"/Users/bob/Github/TeamNishitani/ruby_novice/kamada/Untitled.ipynb\", \"/Users/bob/Github/TeamNishitani/ruby_novice/kamada/Untitled1.ipynb\", \"/Users/bob/Github/TeamNishitani/ruby_novice/natsuko/work1.ipynb\", \"/Users/bob/Github/TeamNishitani/ruby_novice/taishi/Untitled.ipynb\", \"/Users/bob/Github/TeamNishitani/ruby_novice/tsunoo/TanoshiiRuby_practice.ipynb\", \"/Users/bob/Github/TeamNishitani/ruby_novice/tsunoo/Untitled.ipynb\", \"/Users/bob/Github/TeamNishitani/ruby_novice/yamasaki/Untitled1.ipynb\"]"
      ]
     },
     "execution_count": 3,
     "metadata": {},
     "output_type": "execute_result"
    }
   ],
   "source": [
    "require 'fileutils'\n",
    "ipynbs.each{ |file|\n",
    "  name = File.basename(file)\n",
    "  begin\n",
    "    FileUtils.ln_s(file, name)\n",
    "  rescue => e\n",
    "    p e.message\n",
    "    dir = File.basename(File.dirname(file))\n",
    "    base = File.basename(file,'.ipynb')\n",
    "    p target = base+\"_\"+dir+\".ipynb\"\n",
    "    begin\n",
    "      FileUtils.ln_s(file, target)\n",
    "    rescue => e\n",
    "      p e.message\n",
    "    end\n",
    "  end\n",
    "}"
   ]
  },
  {
   "cell_type": "markdown",
   "metadata": {
    "collapsed": true
   },
   "source": [
    "# select_rm\n",
    "\n",
    "grep_wordを変えることで，\n",
    "> rm file(linked_grep_word) \n",
    "\n",
    "ということをしている．"
   ]
  },
  {
   "cell_type": "code",
   "execution_count": 15,
   "metadata": {},
   "outputs": [
    {
     "name": "stdout",
     "output_type": "stream",
     "text": [
      "./FirstLeaf.ipynb\n",
      "\u001b[0;31;49m/Users/bob/python/doing_math_with_python/FirstLeaf.ipynb\u001b[0m\n",
      "./functions.ipynb\n",
      "\u001b[0;31;49m/Users/bob/python/doing_math_with_python/functions.ipynb\u001b[0m\n",
      "./linear_solve.ipynb\n",
      "\u001b[0;31;49m/Users/bob/python/doing_math_with_python/linear_solve.ipynb\u001b[0m\n",
      "./MullerGuido.ipynb\n",
      "\u001b[0;31;49m/Users/bob/python/intro_machine_learning_w_python/MullerGuido.ipynb\u001b[0m\n",
      "./README_python_novice.ipynb\n",
      "\u001b[0;31;49m/Users/bob/python/python_novice/README.ipynb\u001b[0m\n"
     ]
    }
   ],
   "source": [
    "require 'fileutils'\n",
    "require 'colorize'\n",
    "grep_word = 'python'\n",
    "select_files = []\n",
    "Dir.glob('./*.ipynb'){ |file|\n",
    "  begin\n",
    "    link_name = File.readlink(file)\n",
    "  rescue => e\n",
    "    # p e.message\n",
    "    next\n",
    "  end\n",
    "  next unless link_name.index(grep_word)\n",
    "  puts file\n",
    "  puts link_name.red\n",
    "  begin\n",
    "#    FileUtils::DryRun.rm(file)\n",
    "    FileUtils.rm(file)\n",
    "  rescue => e\n",
    "    p e.message\n",
    "  end\n",
    "}"
   ]
  },
  {
   "cell_type": "markdown",
   "metadata": {},
   "source": [
    "# whole_search\n",
    "terminalに移ったら，1時間悩んでたんが，10分で\n",
    "できて，さらにすっとその先まで行けた.\n",
    "\n",
    "ううーーーーん．やっぱり，replの限界やな．\n",
    "\n",
    "完成版は，/Users/bob/notebook_root/ipynb_utils\n",
    "にある．\n",
    "\n",
    "この後の考察はnotebook_rule.ipynbに移した．"
   ]
  },
  {
   "cell_type": "code",
   "execution_count": null,
   "metadata": {
    "collapsed": true
   },
   "outputs": [],
   "source": []
  }
 ],
 "metadata": {
  "kernelspec": {
   "display_name": "Ruby 2.2.2",
   "language": "ruby",
   "name": "ruby"
  },
  "language_info": {
   "file_extension": ".rb",
   "mimetype": "application/x-ruby",
   "name": "ruby",
   "version": "2.2.2"
  },
  "latex_envs": {
   "LaTeX_envs_menu_present": true,
   "autocomplete": true,
   "bibliofile": "biblio.bib",
   "cite_by": "apalike",
   "current_citInitial": 1,
   "eqLabelWithNumbers": true,
   "eqNumInitial": 1,
   "hotkeys": {
    "equation": "Ctrl-E",
    "itemize": "Ctrl-I"
   },
   "labels_anchors": false,
   "latex_user_defs": false,
   "report_style_numbering": false,
   "user_envs_cfg": false
  },
  "toc": {
   "colors": {
    "hover_highlight": "#DAA520",
    "navigate_num": "#000000",
    "navigate_text": "#333333",
    "running_highlight": "#FF0000",
    "selected_highlight": "#FFD700",
    "sidebar_border": "#EEEEEE",
    "wrapper_background": "#FFFFFF"
   },
   "moveMenuLeft": true,
   "nav_menu": {
    "height": "12px",
    "width": "252px"
   },
   "navigate_menu": true,
   "number_sections": true,
   "sideBar": true,
   "threshold": 4,
   "toc_cell": true,
   "toc_section_display": "block",
   "toc_window_display": false,
   "widenNotebook": false
  }
 },
 "nbformat": 4,
 "nbformat_minor": 2
}
